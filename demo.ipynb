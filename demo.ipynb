{
 "cells": [
  {
   "cell_type": "code",
   "execution_count": 1,
   "metadata": {},
   "outputs": [],
   "source": [
    "import tensorflow as tf\n",
    "import numpy as np"
   ]
  },
  {
   "cell_type": "code",
   "execution_count": null,
   "metadata": {},
   "outputs": [],
   "source": [
    "[67.99964  34.001972 27.370667 39.080585 -1.       -1.       -1.\n",
    "  -1.       -1.       -1.       -1.       -1.       -1.       -1.\n",
    "  -1.       -1.       -1.       -1.       -1.       -1.       51.07086\n",
    "  65.03794  -1.       -1.       -1.       -1.       -1.       -1.\n",
    "  50.506577 79.14521 ]\n",
    "[-1.1004776   0.6365961   0.7179315   1.483962    0.03935888 -1.2409312\n",
    "   1.271584   -0.17267627  1.7933336  -2.56411     0.8744608  -0.3783334\n",
    "   2.1389403   1.2774602  -0.61297405  0.4473193   2.032928    1.7558423\n",
    "   0.83670133  1.6127489  -0.30488694 -0.7636453  -1.5378115   1.7087466\n",
    "  -1.2598088  -0.46888253 -0.28241813 -1.2659875   0.50864017  0.09317458]"
   ]
  }
 ],
 "metadata": {
  "kernelspec": {
   "display_name": "Python 3.9.6 64-bit (system)",
   "language": "python",
   "name": "python3"
  },
  "language_info": {
   "codemirror_mode": {
    "name": "ipython",
    "version": 3
   },
   "file_extension": ".py",
   "mimetype": "text/x-python",
   "name": "python",
   "nbconvert_exporter": "python",
   "pygments_lexer": "ipython3",
   "version": "3.9.6"
  },
  "orig_nbformat": 4,
  "vscode": {
   "interpreter": {
    "hash": "9b73f6b7cfd4911be6591fa70777138ef4e737732e5d974e9836450b48ca520e"
   }
  }
 },
 "nbformat": 4,
 "nbformat_minor": 2
}
