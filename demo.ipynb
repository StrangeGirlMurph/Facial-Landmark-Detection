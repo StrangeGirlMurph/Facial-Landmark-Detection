{
 "cells": [
  {
   "cell_type": "markdown",
   "metadata": {},
   "source": [
    "# Facial Landmark Detection - Demonstration\n",
    "Introduction to Deep Learning - Murphy, Aziha, Jonas, Alaa"
   ]
  },
  {
   "cell_type": "code",
   "execution_count": 1,
   "metadata": {},
   "outputs": [],
   "source": [
    "# Before we start let's import the most important libraries\n",
    "import tensorflow as tf\n",
    "import numpy as np\n",
    "import cv2 as cv\n",
    "import keras"
   ]
  },
  {
   "cell_type": "markdown",
   "metadata": {},
   "source": [
    "# Loading the data"
   ]
  },
  {
   "cell_type": "markdown",
   "metadata": {},
   "source": [
    "For simplicity we will import already preprocessed data from an online source."
   ]
  },
  {
   "cell_type": "code",
   "execution_count": 2,
   "metadata": {},
   "outputs": [],
   "source": [
    "import requests\n",
    "import io\n",
    "\n",
    "def loadNumpyArrayFromURL(url):\n",
    "    return np.load(io.BytesIO(requests.get(url).content)).astype(np.float32)\n",
    "\n",
    "# Currently those files are stored in my private google drive.\n",
    "X_train = loadNumpyArrayFromURL(\"https://drive.google.com/uc?id=1wKIgB_Ie_6eqh0-wjqjL8d2eM0j0ys4h\")\n",
    "X_augmented = loadNumpyArrayFromURL(\"https://drive.google.com/uc?id=1d8bEH0jHLK1PlZ-yVcQmvgeLNN-kLlTe\")\n",
    "y_train = loadNumpyArrayFromURL(\"https://drive.google.com/uc?id=1wKHTW9weVAWgudydj6_9FxTaUErl70A3\")\n",
    "y_augmented = loadNumpyArrayFromURL(\"https://drive.google.com/uc?id=1dDACWGT6aImrh-RuAC8vy10VuLduV_XJ\")\n",
    "\n",
    "# The training data should include the augmented data.\n",
    "X_train = np.concatenate((X_train, X_augmented))\n",
    "y_train = np.concatenate((y_train, y_augmented))"
   ]
  },
  {
   "cell_type": "markdown",
   "metadata": {},
   "source": [
    "The dataset with the augmented data in total consists of 11392 96x96 images and their corresponding labels (15 landmarks with x,y-coordinates each):"
   ]
  },
  {
   "cell_type": "code",
   "execution_count": 3,
   "metadata": {},
   "outputs": [
    {
     "data": {
      "text/plain": [
       "((11329, 96, 96, 1), (11329, 30))"
      ]
     },
     "execution_count": 3,
     "metadata": {},
     "output_type": "execute_result"
    }
   ],
   "source": [
    "X_train.shape, y_train.shape"
   ]
  },
  {
   "cell_type": "markdown",
   "metadata": {},
   "source": [
    "Keep in mind though that this data is already preprocessed and the labels include filling values (-1). The training data now consists of about 38% of augmented data."
   ]
  },
  {
   "cell_type": "markdown",
   "metadata": {},
   "source": [
    "# Loading the trained model"
   ]
  },
  {
   "cell_type": "code",
   "execution_count": null,
   "metadata": {},
   "outputs": [],
   "source": []
  },
  {
   "cell_type": "markdown",
   "metadata": {},
   "source": [
    "# Testing the model on labeled data"
   ]
  },
  {
   "cell_type": "code",
   "execution_count": null,
   "metadata": {},
   "outputs": [],
   "source": []
  },
  {
   "cell_type": "markdown",
   "metadata": {},
   "source": [
    "# Testing the model on a webcam input"
   ]
  },
  {
   "cell_type": "markdown",
   "metadata": {},
   "source": []
  }
 ],
 "metadata": {
  "kernelspec": {
   "display_name": "Python 3.9.6 64-bit (system)",
   "language": "python",
   "name": "python3"
  },
  "language_info": {
   "codemirror_mode": {
    "name": "ipython",
    "version": 3
   },
   "file_extension": ".py",
   "mimetype": "text/x-python",
   "name": "python",
   "nbconvert_exporter": "python",
   "pygments_lexer": "ipython3",
   "version": "3.9.6"
  },
  "orig_nbformat": 4,
  "vscode": {
   "interpreter": {
    "hash": "9b73f6b7cfd4911be6591fa70777138ef4e737732e5d974e9836450b48ca520e"
   }
  }
 },
 "nbformat": 4,
 "nbformat_minor": 2
}
