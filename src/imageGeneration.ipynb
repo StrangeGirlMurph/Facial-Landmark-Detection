{
 "cells": [
  {
   "cell_type": "code",
   "execution_count": 1,
   "id": "164c33a7-f8ac-426f-9aff-03eafcdc33f6",
   "metadata": {},
   "outputs": [],
   "source": [
    "import pandas as pd\n",
    "import numpy as np\n",
    "import matplotlib.pyplot as plt\n",
    "from PIL import Image\n",
    "%matplotlib inline"
   ]
  },
  {
   "cell_type": "markdown",
   "id": "b00885a5-c6e2-4632-ae7c-1bdc75fa8be8",
   "metadata": {},
   "source": [
    "# Constants"
   ]
  },
  {
   "cell_type": "code",
   "execution_count": 2,
   "id": "e8fee0ac-3472-40f8-8a76-81c0d069b0bb",
   "metadata": {},
   "outputs": [],
   "source": [
    "label_annotations = [\"left eye center\",\n",
    "                     \"right eye center\",\n",
    "                     \"left eye inner corner\",\n",
    "                     \"left eye outer corner\", \n",
    "                     \"right eye inner corner\", \n",
    "                     \"right eye outer corner\",\n",
    "                     \"left eyebrow inner end\",\n",
    "                     \"left eyebrow outer end\",\n",
    "                     \"right eyebrow inner end\",\n",
    "                     \"right eyebrow outer end\",\n",
    "                     \"nose tip\",\n",
    "                     \"mouth left corner\",\n",
    "                     \"mouth right corner\",\n",
    "                     \"mouth center top lip\",\n",
    "                     \"mouth center bottom lip\"]"
   ]
  },
  {
   "cell_type": "markdown",
   "id": "9e5222e8-1c88-451a-8ef6-a2229ee85e48",
   "metadata": {},
   "source": [
    "# Function definitions"
   ]
  },
  {
   "cell_type": "code",
   "execution_count": 13,
   "id": "90c59d56-32be-4e27-a48c-95a54fe8da2a",
   "metadata": {},
   "outputs": [],
   "source": [
    "def plotImageWithLabels(im, y, name, legend=True):\n",
    "    labels = np.array(label_annotations)[y[0::2] != -1]\n",
    "    \n",
    "    y = y[y != -1]\n",
    "    x = y[0::2]\n",
    "    y = y[1::2]\n",
    "    \n",
    "    fig, ax = plt.subplots(facecolor='white')\n",
    "    fig.set_size_inches(10, 5)\n",
    "    fig.set_dpi(100) \n",
    "\n",
    "    ax.imshow(im, cmap='gray', vmin=0, vmax=255)\n",
    "    ax.set_title(name)\n",
    "    ax.set_xlabel(\"x in px\")\n",
    "    ax.set_ylabel(\"y in px\")\n",
    "    \n",
    "    if legend:\n",
    "        scatter_plot = ax.scatter(x, y, marker=\"s\", s=8, c=range(labels.size), cmap=\"tab20\")\n",
    "        handles, _ = scatter_plot.legend_elements(num=None)\n",
    "        ax.legend(handles, labels, title=\"Facial Landmarks\", loc='center left', bbox_to_anchor=(1, 0.5))\n",
    "    else:\n",
    "        ax.scatter(x, y, marker=\"s\", s=8, c=\"g\")\n",
    "    \n",
    "    return fig"
   ]
  },
  {
   "cell_type": "code",
   "execution_count": 4,
   "id": "4bff2046-0f64-4d8c-929a-9634982fc345",
   "metadata": {},
   "outputs": [],
   "source": [
    "def saveImageWithLabels(image, y, name, path):\n",
    "    fig = plotImageWithLabels(image, y, name)\n",
    "    fig.savefig(path, dpi=300, bbox_inches='tight')\n",
    "    plt.close(fig)"
   ]
  },
  {
   "cell_type": "markdown",
   "id": "cb36d6af-f60b-4662-a640-225965929129",
   "metadata": {},
   "source": [
    "# Load data"
   ]
  },
  {
   "cell_type": "code",
   "execution_count": 5,
   "id": "92dd1f3b-ed54-40f4-b823-8d58f6906852",
   "metadata": {},
   "outputs": [
    {
     "name": "stdout",
     "output_type": "stream",
     "text": [
      "\n",
      "> Loading the data...\n"
     ]
    }
   ],
   "source": [
    "from util.dataUtil import loadData\n",
    "X, y = loadData(includeAugmented=False)\n"
   ]
  },
  {
   "cell_type": "code",
   "execution_count": null,
   "id": "3680e91c",
   "metadata": {},
   "outputs": [],
   "source": [
    "plt.show(plotImageWithLabels(X[0], y[0].astype(np.int8), \"Example\"))"
   ]
  },
  {
   "cell_type": "markdown",
   "id": "fdf81976-3bac-47bb-88fd-a44503e60721",
   "metadata": {},
   "source": [
    "# Plot fully labeled images"
   ]
  },
  {
   "cell_type": "code",
   "execution_count": 8,
   "id": "5c730748-c055-417b-a574-3af2f2f275cd",
   "metadata": {},
   "outputs": [
    {
     "name": "stdout",
     "output_type": "stream",
     "text": [
      "[  32   33   49   54  151  156  178  223  275  307  308  345  371  386\n",
      "  432  457  465  479  510  511  522  547  599  617  623  625  639  679\n",
      "  724  726  733  771  798  804  806  808  815  848  851  893  907  937\n",
      "  943  962  965 1001 1003 1021 1034 1098 1125 1140 1164 1167 1184 1188\n",
      " 1193 1234 1249 1266 1274 1310 1315 1339 1346 1349 1354 1361 1375 1378\n",
      " 1395 1404 1446 1469 1499 1539 1666 1680 1689 1698 1702 1710 1755 1758\n",
      " 1796 1826 1832 1955 1993 2024 2042 2046 2074 2106 2121 2131 2162 2203\n",
      " 2204 2260]\n"
     ]
    }
   ],
   "source": [
    "# only clean data\n",
    "a, b = np.where(y == -1)\n",
    "i = np.unique(a)  # indices of the unclean images\n",
    "i = np.delete(np.arange(len(X)), i)\n",
    "\n",
    "# random indices\n",
    "n = 100\n",
    "indicies = np.sort(np.random.choice(i, n, replace=False))\n",
    "print(indicies)\n",
    "\n",
    "for i in indicies:\n",
    "    saveImageWithLabels(X[i], y[i].astype(np.int8), f\"Image no.: {i}\", f\"../data/sampleImages/rawCleanImages/{i}.png\")"
   ]
  },
  {
   "cell_type": "markdown",
   "id": "ec87d422-6597-4b25-9058-5ab52e318c53",
   "metadata": {},
   "source": [
    "# Plot partial labeled images"
   ]
  },
  {
   "cell_type": "code",
   "execution_count": 14,
   "id": "b329f406-c94b-46da-97e7-7f2660f6e407",
   "metadata": {},
   "outputs": [
    {
     "name": "stdout",
     "output_type": "stream",
     "text": [
      "[1738 1920 1979 2023 2289 2374 2464 2470 2574 2576 2622 2641 2648 2862\n",
      " 3036 3064 3238 3244 3262 3263 3296 3337 3398 3442 3443 3462 3489 3652\n",
      " 3698 3786 3820 3837 3838 3865 3933 3946 3957 4026 4046 4176 4238 4273\n",
      " 4300 4303 4321 4450 4538 4571 4574 4640 4650 4692 4754 4788 4855 4880\n",
      " 4904 4944 4972 5027 5032 5203 5215 5389 5392 5406 5426 5462 5478 5500\n",
      " 5509 5541 5546 5653 5710 5739 5795 5832 6085 6202 6212 6214 6268 6353\n",
      " 6370 6482 6537 6624 6664 6686 6695 6706 6750 6757 6842 6893 6915 6935\n",
      " 7009 7034]\n"
     ]
    }
   ],
   "source": [
    "# only unclean data\n",
    "a, b = np.where(y == -1)\n",
    "i = np.unique(a)  # indices of the unclean images\n",
    "\n",
    "# random indices\n",
    "n = 100\n",
    "indicies = np.sort(np.random.choice(i, n, replace=False))\n",
    "print(indicies)\n",
    "\n",
    "for i in indicies:\n",
    "    saveImageWithLabels(X[i], y[i].astype(np.int8), f\"Image no.: {i}\", f\"../data/sampleImages/rawUncleanImages/{i}.png\")"
   ]
  },
  {
   "cell_type": "markdown",
   "id": "23345087",
   "metadata": {},
   "source": [
    "# Plot fully labeled augmented images"
   ]
  },
  {
   "cell_type": "code",
   "execution_count": 15,
   "id": "c8423425",
   "metadata": {},
   "outputs": [
    {
     "name": "stdout",
     "output_type": "stream",
     "text": [
      "[   87   185   257   311   625   661   944   950  1170  1605  1731  1793\n",
      "  2017  2099  2207  2221  2356  2488  2520  2549  2672  2675  2905  2963\n",
      "  3064  3114  3167  3220  3369  3563  3750  3765  3942  4085  4090  4121\n",
      "  4379  4382  4475  4540  4676  4691  4872  4995  5034  5039  5053  5121\n",
      "  5281  5404  5450  5715  5746  6007  6189  6278  6339  6386  6462  6465\n",
      "  6522  6619  6647  6650  6711  6716  6795  7002  7010  7059  7184  7383\n",
      "  7410  7782  8073  8138  8168  8279  8415  8486  8547  8559  8587  8974\n",
      "  9050  9158  9248  9291  9355  9513  9741 10107 10111 10291 10330 10339\n",
      " 10400 10606 10627 10646]\n"
     ]
    }
   ],
   "source": [
    "from util.dataUtil import loadAugmentedData\n",
    "xa,ya = loadAugmentedData()\n",
    "\n",
    "# random indices\n",
    "n = 100\n",
    "indicies = np.sort(np.random.choice(len(xa), n, replace=False))\n",
    "print(indicies)\n",
    "\n",
    "for i in indicies:\n",
    "    saveImageWithLabels(xa[i], ya[i].astype(np.int8), f\"Image no.: {i}\", f\"../data/sampleImages/augmentedImages/{i}.png\")"
   ]
  },
  {
   "cell_type": "markdown",
   "id": "e56f0445-3fbf-4b9c-a807-e7430e60a3e5",
   "metadata": {},
   "source": [
    "# Statistics"
   ]
  },
  {
   "cell_type": "code",
   "execution_count": 9,
   "id": "84bd549f-413d-4ea3-b097-250016c648ef",
   "metadata": {},
   "outputs": [],
   "source": [
    "annotation_count = annotations.notnull().sum(axis=1)"
   ]
  },
  {
   "cell_type": "code",
   "execution_count": 10,
   "id": "e751f575-fb8d-4962-9053-4284ee21572a",
   "metadata": {},
   "outputs": [
    {
     "name": "stdout",
     "output_type": "stream",
     "text": [
      "8     4755\n",
      "10       2\n",
      "16       2\n",
      "18       5\n",
      "20       3\n",
      "22       8\n",
      "24       9\n",
      "26      28\n",
      "28      87\n",
      "30    2140\n",
      "dtype: int64\n",
      "\n",
      "4 annotations from image 2284 to 7048\n"
     ]
    }
   ],
   "source": [
    "# drop images with less then 4 annotations\n",
    "annotation_count.drop(annotation_count.index[annotation_count < 8], inplace=True)\n",
    "\n",
    "# display number of images with different number of annotations\n",
    "print(annotation_count.value_counts().sort_index())\n",
    "\n",
    "# from which image to which image are only 4 annotations?\n",
    "annotation_count_4 = annotation_count.loc[annotation_count == 8]\n",
    "annotation_count_4_index = annotation_count_4.index.to_numpy()\n",
    "#np.unique(annotation_count_4_index[:-1] - annotation_count_4_index[1:], return_index=True, return_counts=True)\n",
    "#np.where(annotation_count_4_index[:-1] - annotation_count_4_index[1:] == -2) + annotation_count_4_index[0]\n",
    "print(f\"\\n4 annotations from image {annotation_count_4_index[0]} to {annotation_count_4_index[-1]}\")"
   ]
  },
  {
   "cell_type": "code",
   "execution_count": 11,
   "id": "70e10822-a187-4da7-9993-b0a79874593e",
   "metadata": {},
   "outputs": [
    {
     "data": {
      "text/plain": [
       "210     28\n",
       "350     28\n",
       "499     28\n",
       "512     28\n",
       "810     28\n",
       "        ..\n",
       "2233    28\n",
       "2237    28\n",
       "2244    28\n",
       "2279    28\n",
       "2280    28\n",
       "Length: 87, dtype: int64"
      ]
     },
     "execution_count": 11,
     "metadata": {},
     "output_type": "execute_result"
    }
   ],
   "source": [
    "annotation_count.loc[annotation_count == 28]"
   ]
  },
  {
   "cell_type": "markdown",
   "id": "48faab2e-851d-4ea1-b325-e6ed770b856c",
   "metadata": {},
   "source": [
    "# Trying to fill missing values"
   ]
  },
  {
   "cell_type": "code",
   "execution_count": 64,
   "id": "5a427530",
   "metadata": {},
   "outputs": [],
   "source": [
    "annotations_ffill = annotations.fillna(method='ffill')\n",
    "\n",
    "def showImageWithFill(n):\n",
    "    annotation_points_full = annotations_ffill.iloc[n].to_numpy()\n",
    "    x = annotation_points_full[::2].astype(np.int8)\n",
    "    y = annotation_points_full[1::2].astype(np.int8)\n",
    "    plt.show(plot_image_with_annotations(images.iloc[n], x, y, f\"Image no.: {n}\"))"
   ]
  },
  {
   "cell_type": "code",
   "execution_count": null,
   "id": "e0afd35f-5366-4177-ac0e-28614efdc693",
   "metadata": {},
   "outputs": [],
   "source": [
    "showImageWithFill(2283)\n",
    "showImageWithFill(2284)\n",
    "showImageWithFill(2285)\n",
    "showImageWithFill(2286)"
   ]
  },
  {
   "cell_type": "code",
   "execution_count": null,
   "id": "a56ed0ad",
   "metadata": {},
   "outputs": [],
   "source": []
  }
 ],
 "metadata": {
  "kernelspec": {
   "display_name": "Python 3.9.6 64-bit (system)",
   "language": "python",
   "name": "python3"
  },
  "language_info": {
   "codemirror_mode": {
    "name": "ipython",
    "version": 3
   },
   "file_extension": ".py",
   "mimetype": "text/x-python",
   "name": "python",
   "nbconvert_exporter": "python",
   "pygments_lexer": "ipython3",
   "version": "3.9.6"
  },
  "vscode": {
   "interpreter": {
    "hash": "9b73f6b7cfd4911be6591fa70777138ef4e737732e5d974e9836450b48ca520e"
   }
  }
 },
 "nbformat": 4,
 "nbformat_minor": 5
}
