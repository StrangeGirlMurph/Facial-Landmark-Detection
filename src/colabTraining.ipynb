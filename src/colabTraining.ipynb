{
 "cells": [
  {
   "cell_type": "markdown",
   "metadata": {},
   "source": [
    "# Minimum Code for Training the Model with Google Colab"
   ]
  },
  {
   "cell_type": "code",
   "execution_count": 1,
   "metadata": {},
   "outputs": [],
   "source": [
    "# Enter the path to the src folder on your drive here.\n",
    "from google.colab import drive\n",
    "drive.mount('/content/drive/')\n",
    "%cd \"drive/MyDrive/Module/05 Deep Learning/DeepLearning-FacialLandmarkDetection/src/\"\n",
    "\n",
    "# Alternatively clone the repository.\n",
    "# !git clone https://github.com/StrangeGirlMurph/Facial-Landmark-Detection.git\n",
    "# %cd /content/Facial-Landmark-Detection/src\n",
    "# !git lfs pull"
   ]
  },
  {
   "cell_type": "code",
   "execution_count": null,
   "metadata": {},
   "outputs": [],
   "source": [
    "# If you're curious which GPU you're using :)\n",
    "# from tensorflow.python.client import device_lib\n",
    "# print(device_lib.list_local_devices())\n",
    "\n",
    "!nvidia-smi -L\n",
    "!curl ipinfo.io"
   ]
  },
  {
   "cell_type": "markdown",
   "metadata": {},
   "source": [
    "## Training"
   ]
  },
  {
   "cell_type": "code",
   "execution_count": null,
   "metadata": {},
   "outputs": [],
   "source": [
    "from util.dataUtil import loadData\n",
    "from util.modelUtil import saveModel\n",
    "from modelStructure import defineModel\n",
    "from training import trainModel\n",
    "\n",
    "X_train, y_train, X_test = loadData(includeAugmented=True)\n",
    "model = defineModel()\n",
    "\n",
    "trainModel(\n",
    "    model, X_train, y_train,\n",
    "    epochs=100,\n",
    "    batch_size=256,\n",
    "    validation_split=0.2,\n",
    "    showHistory=True\n",
    ")\n",
    "\n",
    "saveModel(model, \"../models/modelV4\")"
   ]
  },
  {
   "cell_type": "markdown",
   "metadata": {},
   "source": [
    "## Testing"
   ]
  },
  {
   "cell_type": "code",
   "execution_count": null,
   "metadata": {},
   "outputs": [],
   "source": [
    "from testing import testOnDataset, testOnVideoFile, testOnWebcam\n",
    "from util.dataUtil import loadData\n",
    "from util.modelUtil import loadModel\n",
    "\n",
    "X_train, y_train = loadData(includeTestData=False)\n",
    "numberOfPoints, seed = 20, 30\n",
    "\n",
    "model = loadModel(\"../models/modelV4\")\n",
    "testOnDataset(model, X_train[seed:seed+numberOfPoints], trueValues=y_train[seed:seed+numberOfPoints], show=True, save=False, filename=\"V4.png\")"
   ]
  },
  {
   "cell_type": "markdown",
   "metadata": {},
   "source": [
    "## Evaluating"
   ]
  },
  {
   "cell_type": "code",
   "execution_count": null,
   "metadata": {},
   "outputs": [],
   "source": [
    "from util.dataUtil import loadData, loadVideoTestData\n",
    "from util.modelUtil import loadModel\n",
    "from training import masked_accuracy, masked_mean_absolute_error, masked_mean_squared_error\n",
    "\n",
    "# Loading the data\n",
    "X_test, y_test = loadData(includeAugmented=True, percentageOfUncleanData=1)\n",
    "X_videoTest, y_videoTest = loadVideoTestData()\n",
    "print(\"Number of images from the dataset:\", len(X_test))\n",
    "print(\"Number of video frames:\", len(X_videoTest))\n",
    "\n",
    "# Loading the model\n",
    "model = loadModel(\"../models/modelV4\")\n",
    "\n",
    "# Recompile the model to use the custom metrics\n",
    "model.compile(\n",
    "    loss=masked_mean_squared_error,\n",
    "    metrics=[masked_mean_absolute_error, masked_accuracy],\n",
    "    run_eagerly=True\n",
    ")\n",
    "\n",
    "# Evaluating the model on the test data (batches of 32)\n",
    "print(\"Results evaluation on the dataset:\", model.evaluate(x=X_test, y=y_test))\n",
    "print(\"Results evaluation on video frames:\", model.evaluate(x=X_videoTest, y=y_videoTest))"
   ]
  }
 ],
 "metadata": {
  "kernelspec": {
   "display_name": "Python 3.9.6 64-bit (system)",
   "language": "python",
   "name": "python3"
  },
  "language_info": {
   "codemirror_mode": {
    "name": "ipython",
    "version": 3
   },
   "file_extension": ".py",
   "mimetype": "text/x-python",
   "name": "python",
   "nbconvert_exporter": "python",
   "pygments_lexer": "ipython3",
   "version": "3.9.6"
  },
  "orig_nbformat": 4,
  "vscode": {
   "interpreter": {
    "hash": "9b73f6b7cfd4911be6591fa70777138ef4e737732e5d974e9836450b48ca520e"
   }
  }
 },
 "nbformat": 4,
 "nbformat_minor": 2
}
